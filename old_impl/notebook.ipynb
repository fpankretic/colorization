{
 "cells": [
  {
   "cell_type": "code",
   "execution_count": 16,
   "id": "9b64605f-a657-45ee-b646-efe19d58bc07",
   "metadata": {},
   "source": [
    "%load_ext autoreload\n",
    "%autoreload 2\n",
    "from data import *\n",
    "from train import *\n",
    "from models import *\n",
    "device = \"cuda\"\n",
    "from torchvision.models import resnet18\n",
    "\n",
    "ab_path = \"ab/ab/ab2.npy\"\n",
    "l_path = \"l/gray_scale.npy\""
   ],
   "outputs": []
  },
  {
   "cell_type": "code",
   "execution_count": 17,
   "id": "8352d8af",
   "metadata": {},
   "source": [
    "trainLoader = load_npy_data(ab_path, l_path, size=256, n=50, batch_size=32, test=False, num_workers=4, pin_memory=True)"
   ],
   "outputs": []
  },
  {
   "cell_type": "code",
   "execution_count": 19,
   "id": "4f47b049",
   "metadata": {},
   "source": [
    "generator = UNet(1,2).to(device)\n",
    "discriminator = Discriminator(3, patch=False).to(device)\n",
    "optimizer_gen = torch.optim.Adam(generator.parameters(), lr=0.0002, betas=(0.5, 0.999))\n",
    "optimizer_disc = torch.optim.Adam(discriminator.parameters(), lr=0.0002, betas=(0.5, 0.999))"
   ],
   "outputs": []
  },
  {
   "cell_type": "code",
   "execution_count": 20,
   "id": "d40e34c3",
   "metadata": {},
   "source": [
    "generator.load_state_dict(torch.load(\"Models/GAN_100_10.0_0.0002_0.001_1000/generator.pth\"))"
   ],
   "outputs": []
  },
  {
   "cell_type": "code",
   "execution_count": 21,
   "id": "302c3a34",
   "metadata": {},
   "source": [
    "visualize(generator, trainLoader, n=5)"
   ],
   "outputs": []
  }
 ],
 "metadata": {
  "kernelspec": {
   "display_name": "Python 3 (ipykernel)",
   "language": "python",
   "name": "python3"
  },
  "language_info": {
   "codemirror_mode": {
    "name": "ipython",
    "version": 3
   },
   "file_extension": ".py",
   "mimetype": "text/x-python",
   "name": "python",
   "nbconvert_exporter": "python",
   "pygments_lexer": "ipython3",
   "version": "3.10.10"
  }
 },
 "nbformat": 4,
 "nbformat_minor": 5
}
